{
 "cells": [
  {
   "cell_type": "code",
   "execution_count": 1,
   "id": "330b0f30",
   "metadata": {},
   "outputs": [],
   "source": [
    "#Prediction of probability of winning a game based on training and rest which are taken as the input parameters, these \n",
    "#parameters have a range from 0 to 1\n",
    "\n",
    "\n",
    "\n",
    "#Import libraries\n",
    "import numpy as np\n",
    "import matplotlib.pyplot as plt \n",
    "from mpl_toolkits import mplot3d\n",
    "import torch\n",
    "from torch.utils.data import Dataset, DataLoader\n",
    "import torch.nn as nn"
   ]
  },
  {
   "cell_type": "code",
   "execution_count": 2,
   "id": "8c96926f",
   "metadata": {},
   "outputs": [],
   "source": [
    "#Class that generates the training dataset\n",
    "\n",
    "class Data(Dataset):\n",
    "    \n",
    "    # Constructor\n",
    "    def __init__(self):\n",
    "        self.training = torch.tensor([[0.3],[0.2],[0.4],[0.7],[0.8],[0.6],[0.5],[0.4],[0.3],[0.2]]).type(torch.float)\n",
    "        \n",
    "        self.rest=torch.tensor([[0.9],[0.5],[0.5],[0.1],[0.6],[0.5],[0.5],[0.3],[0.3],[0.2]]).type(torch.float)\n",
    "        self.x =torch.hstack((self.training,self.rest)) \n",
    "        \n",
    "        self.y=torch.tensor([[1],[0],[0],[0],[1],[1],[0],[0],[0],[0]])\n",
    "       \n",
    "    \n",
    "       \n",
    "        self.len = self.x.shape[0]\n",
    "    def __getitem__(self, index):      \n",
    "        return self.x[index], self.y[index]    \n",
    "    def __len__(self):\n",
    "        return self.len\n",
    "    "
   ]
  },
  {
   "cell_type": "code",
   "execution_count": 3,
   "id": "5acdc6c1",
   "metadata": {},
   "outputs": [],
   "source": [
    "#Generate the data from our class\n",
    "\n",
    "data_set = Data()\n"
   ]
  },
  {
   "cell_type": "code",
   "execution_count": 4,
   "id": "04365cd5",
   "metadata": {},
   "outputs": [],
   "source": [
    "#Class that computes logistic regression with a sigmoid activation\n",
    "\n",
    "class logistic_regression(nn.Module):\n",
    "    \n",
    "    # Constructor\n",
    "    def __init__(self, n_inputs):\n",
    "        super(logistic_regression, self).__init__()\n",
    "        self.linear = nn.Linear(n_inputs, 1)\n",
    "        \n",
    "    # Prediction\n",
    "    def forward(self, x):\n",
    "        yhat = torch.sigmoid(self.linear(x))\n",
    "        return yhat\n",
    "    "
   ]
  },
  {
   "cell_type": "code",
   "execution_count": 5,
   "id": "eaee4272",
   "metadata": {},
   "outputs": [
    {
     "name": "stdout",
     "output_type": "stream",
     "text": [
      "OrderedDict([('linear.weight', tensor([[-5., -5.]])), ('linear.bias', tensor([-10.]))])\n"
     ]
    }
   ],
   "source": [
    "# model has 2 inputs and 1 output \n",
    "model = logistic_regression(2)\n",
    "\n",
    "# initialise parameters\n",
    "model.state_dict() ['linear.weight'].data[0] = torch.tensor([[-5]])\n",
    "model.state_dict() ['linear.bias'].data[0] = torch.tensor([[-10]])\n",
    "print(model.state_dict())"
   ]
  },
  {
   "cell_type": "code",
   "execution_count": 6,
   "id": "0c1f0911",
   "metadata": {},
   "outputs": [],
   "source": [
    "#loss criterion\n",
    "def criterion(yhat,y):\n",
    "    out = -1 * torch.mean(y * torch.log(yhat) + (1 - y) * torch.log(1 - yhat))\n",
    "    return out\n",
    "\n",
    "# Splitting our dataset into batches of 3.\n",
    "trainloader = DataLoader(dataset = data_set, batch_size = 3)\n",
    "\n",
    "#Setting learning_rate and pytorch optimizer\n",
    "learning_rate = 2\n",
    "optimizer = torch.optim.SGD(model.parameters(), lr = learning_rate)\n"
   ]
  },
  {
   "cell_type": "code",
   "execution_count": 7,
   "id": "2cade180",
   "metadata": {},
   "outputs": [],
   "source": [
    "#training of the model \n",
    "\n",
    "def train_model(epochs):\n",
    "    for epoch in range(epochs):\n",
    "        for x, y in trainloader:\n",
    "            yhat = model(x)\n",
    "            loss = criterion(yhat, y)\n",
    "            optimizer.zero_grad()\n",
    "            loss.backward()\n",
    "            optimizer.step()\n",
    "            \n",
    "        \n",
    "            \n",
    "train_model(100)\n"
   ]
  },
  {
   "cell_type": "code",
   "execution_count": 8,
   "id": "c38b4bd9",
   "metadata": {},
   "outputs": [
    {
     "name": "stdout",
     "output_type": "stream",
     "text": [
      "tensor([[0.8396]], grad_fn=<SigmoidBackward0>)\n"
     ]
    }
   ],
   "source": [
    "# output test\n",
    "\n",
    "x=torch.tensor([[0.4,0.8]]).type(torch.float)\n",
    "y=model(x)\n",
    "print(y)"
   ]
  }
 ],
 "metadata": {
  "kernelspec": {
   "display_name": "Python 3",
   "language": "python",
   "name": "python3"
  },
  "language_info": {
   "codemirror_mode": {
    "name": "ipython",
    "version": 3
   },
   "file_extension": ".py",
   "mimetype": "text/x-python",
   "name": "python",
   "nbconvert_exporter": "python",
   "pygments_lexer": "ipython3",
   "version": "3.8.8"
  }
 },
 "nbformat": 4,
 "nbformat_minor": 5
}
