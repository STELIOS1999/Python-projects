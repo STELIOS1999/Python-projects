{
 "cells": [
  {
   "cell_type": "code",
   "execution_count": 1,
   "id": "c72cdae2",
   "metadata": {},
   "outputs": [],
   "source": [
    "#code to solve 2d Reaction Diffusion equation \n",
    "    \n",
    "import numpy as np\n",
    "import scipy.linalg as scl\n",
    "import matplotlib.pyplot as plt\n",
    "from mpl_toolkits import mplot3d\n",
    "\n"
   ]
  },
  {
   "cell_type": "code",
   "execution_count": 2,
   "id": "837f2322",
   "metadata": {},
   "outputs": [],
   "source": [
    "class Reaction_Diffusion(object):\n",
    "    \n",
    "    #constructor to initialise parameters\n",
    "    def __init__(self,Nx=101,Ny=101,alpha=0.75,b=0.06,mu1=5,mu2=0,h=1,epsilon=50,dt=0.001):\n",
    "        \n",
    "      \n",
    "        self.Nx=Nx\n",
    "        self.Ny=Ny\n",
    "        self.alpha=alpha\n",
    "        self.b=b\n",
    "        self.mu1=mu1\n",
    "        self.mu2=mu2\n",
    "        self.h=h\n",
    "        self.epsilon=epsilon\n",
    "        self.dt=dt\n",
    "        \n",
    "    \n",
    "     #initial conditions function \n",
    "    def SetInitialConditions(self):\n",
    "        \n",
    "        u_initial=np.zeros([self.Ny,self.Nx])\n",
    "        v_initial=np.zeros([self.Ny,self.Nx])\n",
    "\n",
    "\n",
    "        for j in range(self.Ny//2,self.Ny):\n",
    "    \n",
    "            for i in range(0,self.Nx):\n",
    "                 u_initial[j,i]=1\n",
    "            \n",
    "        for j in range(0,self.Ny):\n",
    "    \n",
    "            for i in range(0,self.Nx//2):\n",
    "                 v_initial[j,i]=self.alpha/2 \n",
    "                \n",
    "                \n",
    "        self.u_initial=u_initial\n",
    "        self.v_initial=v_initial\n",
    "\n",
    "      #time integration function\n",
    "    def Time_Integrate(self):\n",
    "        #variables\n",
    "        Nx=self.Nx\n",
    "        Ny=self.Ny\n",
    "        alpha=self.alpha\n",
    "        b=self.b\n",
    "        mu1=self.mu1\n",
    "        mu2=self.mu2\n",
    "        h=self.h\n",
    "        epsilon=self.epsilon\n",
    "        dt=self.dt\n",
    "        \n",
    "        \n",
    "        #banded matrices for u and v \n",
    "        col = [-3,1] + [0] * (Ny -2)\n",
    "        lin = [-3,1] + [0] * (Nx -2)\n",
    "        matrix_u = scl.toeplitz(col, lin)\n",
    "\n",
    "        for j in range(1,Ny-1):   \n",
    "    \n",
    "            matrix_u[j,j]=-4\n",
    "            matrix_v=matrix_u\n",
    "       \n",
    "        u_temp=np.zeros([Ny,Nx])\n",
    "        v_temp=np.zeros([Ny,Nx])\n",
    "        \n",
    "        u_initial=self.u_initial\n",
    "        v_initial=self.v_initial\n",
    "        \n",
    "        \n",
    "        #10000 timesteps with dt=0.001\n",
    "        for k in range(10000):\n",
    "\n",
    "            for j in range(0,Ny):\n",
    "                if j==0:\n",
    "                    temp_vector_u_row=mu1*dt/(self.h**2)*matrix_u.dot(u_initial[j,:].T)+u_initial[j,:].T+dt*epsilon*(u_initial[j,:].T)*(1-u_initial[j,:].T)*(u_initial[j,:].T-(v_initial[j,:].T+b)/alpha)+mu1*dt/(h**2)*(u_initial[j+1,:].T+u_initial[j,:].T)\n",
    "                    temp_vector_v_row=mu2*dt/(h**2)*matrix_v.dot(v_initial[j,:].T)+v_initial[j,:].T+dt*(u_initial[j,:].T**3-v_initial[j,:].T)+mu2*dt/(h**2)*(v_initial[j+1,:].T+v_initial[j,:].T)  \n",
    "                elif j==Ny-1:\n",
    "                    temp_vector_u_row=mu1*dt/(h**2)*matrix_u.dot(u_initial[j,:].T)+u_initial[j,:].T+dt*epsilon*(u_initial[j,:].T)*(1-u_initial[j,:].T)*(u_initial[j,:].T-(v_initial[j,:].T+b)/alpha)+mu1*dt/(h**2)*(u_initial[j,:].T+u_initial[j-1,:].T)        \n",
    "                    temp_vector_v_row=mu2*dt/(h**2)*matrix_v.dot(v_initial[j,:].T)+v_initial[j,:].T+dt*(u_initial[j,:].T**3-v_initial[j,:].T)+mu2*dt/(h**2)*(v_initial[j,:].T+v_initial[j-1,:].T)\n",
    "                \n",
    "                \n",
    "                else:    \n",
    "                    temp_vector_u_row=mu1*dt/(h**2)*matrix_u.dot(u_initial[j,:].T)+u_initial[j,:].T+dt*epsilon*(u_initial[j,:].T)*(1-u_initial[j,:].T)*(u_initial[j,:].T-(v_initial[j,:].T+b)/alpha)+mu1*dt/(h**2)*(u_initial[j+1,:].T+u_initial[j-1,:].T)        \n",
    "                    temp_vector_v_row=mu2*dt/(h**2)*matrix_v.dot(v_initial[j,:].T)+v_initial[j,:].T+dt*(u_initial[j,:].T**3-v_initial[j,:].T)+mu2*dt/(h**2)*(v_initial[j+1,:].T+v_initial[j-1,:].T)   \n",
    "          \n",
    "            \n",
    "                \n",
    "                v_temp[j,:]=temp_vector_v_row\n",
    "                u_temp[j,:]=temp_vector_u_row\n",
    "           \n",
    "            \n",
    "                \n",
    "                \n",
    "            u_initial=u_temp\n",
    "            v_initial=v_temp\n",
    "        self.u_initial=u_initial\n",
    "        self.v_initial=v_initial\n",
    "\n",
    "\n",
    "\n",
    "\n",
    " \n"
   ]
  },
  {
   "cell_type": "code",
   "execution_count": 3,
   "id": "b946471e",
   "metadata": {},
   "outputs": [],
   "source": [
    "#implementation of constructor\n",
    "solution=Reaction_Diffusion()\n",
    "\n",
    "#implementation of initial conditions\n",
    "solution.SetInitialConditions()\n",
    "\n",
    "\n",
    "#implementation of time integration\n",
    "solution.Time_Integrate()"
   ]
  },
  {
   "cell_type": "code",
   "execution_count": 4,
   "id": "8e9b481e",
   "metadata": {},
   "outputs": [
    {
     "data": {
      "image/png": "[encoded data removed]",
      "text/plain": [
       "<Figure size 432x288 with 2 Axes>"
      ]
     },
     "metadata": {
      "needs_background": "light"
     },
     "output_type": "display_data"
    },
    {
     "data": {
      "image/png": "[encoded data removed]",
      "text/plain": [
       "<Figure size 432x288 with 2 Axes>"
      ]
     },
     "metadata": {
      "needs_background": "light"
     },
     "output_type": "display_data"
    }
   ],
   "source": [
    "x = np.linspace(0, 101, 101)\n",
    "y= np.linspace(0, 101, 101)\n",
    "X, Y = np.meshgrid(x, y) \n",
    "\n",
    "\n",
    "# plot solution of u\n",
    "plt.figure()\n",
    "plt.contourf(X, Y, solution.u_initial)\n",
    "plt.colorbar( orientation=\"vertical\")\n",
    "plt.show()\n",
    "\n",
    "# plot solution of v\n",
    "plt.figure()\n",
    "plt.contourf(X, Y, solution.v_initial)\n",
    "plt.colorbar( orientation=\"vertical\")\n",
    "plt.show()\n",
    "\n",
    "\n"
   ]
  }
 ],
 "metadata": {
  "kernelspec": {
   "display_name": "Python 3",
   "language": "python",
   "name": "python3"
  },
  "language_info": {
   "codemirror_mode": {
    "name": "ipython",
    "version": 3
   },
   "file_extension": ".py",
   "mimetype": "text/x-python",
   "name": "python",
   "nbconvert_exporter": "python",
   "pygments_lexer": "ipython3",
   "version": "3.8.8"
  }
 },
 "nbformat": 4,
 "nbformat_minor": 5
}
